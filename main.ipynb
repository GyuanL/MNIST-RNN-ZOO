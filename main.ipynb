{
 "cells": [
  {
   "cell_type": "code",
   "execution_count": 1,
   "id": "05394d96",
   "metadata": {
    "ExecuteTime": {
     "end_time": "2023-04-16T06:45:01.475035Z",
     "start_time": "2023-04-16T06:42:42.598618Z"
    }
   },
   "outputs": [
    {
     "name": "stdout",
     "output_type": "stream",
     "text": [
      "Downloading http://yann.lecun.com/exdb/mnist/train-images-idx3-ubyte.gz\n",
      "Downloading http://yann.lecun.com/exdb/mnist/train-images-idx3-ubyte.gz to ../data\\MNIST\\raw\\train-images-idx3-ubyte.gz\n"
     ]
    },
    {
     "name": "stderr",
     "output_type": "stream",
     "text": [
      "100%|███████████████████████████████████████████████████████████████████| 9912422/9912422 [00:03<00:00, 3223149.22it/s]\n"
     ]
    },
    {
     "name": "stdout",
     "output_type": "stream",
     "text": [
      "Extracting ../data\\MNIST\\raw\\train-images-idx3-ubyte.gz to ../data\\MNIST\\raw\n",
      "\n",
      "Downloading http://yann.lecun.com/exdb/mnist/train-labels-idx1-ubyte.gz\n",
      "Downloading http://yann.lecun.com/exdb/mnist/train-labels-idx1-ubyte.gz to ../data\\MNIST\\raw\\train-labels-idx1-ubyte.gz\n"
     ]
    },
    {
     "name": "stderr",
     "output_type": "stream",
     "text": [
      "100%|██████████████████████████████████████████████████████████████████████| 28881/28881 [00:00<00:00, 29035401.20it/s]"
     ]
    },
    {
     "name": "stdout",
     "output_type": "stream",
     "text": [
      "Extracting ../data\\MNIST\\raw\\train-labels-idx1-ubyte.gz to ../data\\MNIST\\raw\n",
      "\n",
      "Downloading http://yann.lecun.com/exdb/mnist/t10k-images-idx3-ubyte.gz\n"
     ]
    },
    {
     "name": "stderr",
     "output_type": "stream",
     "text": [
      "\n"
     ]
    },
    {
     "name": "stdout",
     "output_type": "stream",
     "text": [
      "Downloading http://yann.lecun.com/exdb/mnist/t10k-images-idx3-ubyte.gz to ../data\\MNIST\\raw\\t10k-images-idx3-ubyte.gz\n"
     ]
    },
    {
     "name": "stderr",
     "output_type": "stream",
     "text": [
      "100%|███████████████████████████████████████████████████████████████████| 1648877/1648877 [00:01<00:00, 1556110.03it/s]\n"
     ]
    },
    {
     "name": "stdout",
     "output_type": "stream",
     "text": [
      "Extracting ../data\\MNIST\\raw\\t10k-images-idx3-ubyte.gz to ../data\\MNIST\\raw\n",
      "\n",
      "Downloading http://yann.lecun.com/exdb/mnist/t10k-labels-idx1-ubyte.gz\n",
      "Downloading http://yann.lecun.com/exdb/mnist/t10k-labels-idx1-ubyte.gz to ../data\\MNIST\\raw\\t10k-labels-idx1-ubyte.gz\n"
     ]
    },
    {
     "name": "stderr",
     "output_type": "stream",
     "text": [
      "100%|█████████████████████████████████████████████████████████████████████████| 4542/4542 [00:00<00:00, 2277681.58it/s]"
     ]
    },
    {
     "name": "stdout",
     "output_type": "stream",
     "text": [
      "Extracting ../data\\MNIST\\raw\\t10k-labels-idx1-ubyte.gz to ../data\\MNIST\\raw\n",
      "\n"
     ]
    },
    {
     "name": "stderr",
     "output_type": "stream",
     "text": [
      "\n",
      "C:\\Users\\99592\\anaconda3\\lib\\site-packages\\torch\\nn\\functional.py:1331: UserWarning: dropout2d: Received a 2-D input to dropout2d, which is deprecated and will result in an error in a future release. To retain the behavior and silence this warning, please use dropout instead. Note that dropout2d exists to provide channel-wise dropout on inputs with 2 spatial dimensions, a channel dimension, and an optional batch dimension (i.e. 3D or 4D inputs).\n",
      "  warnings.warn(warn_msg)\n"
     ]
    },
    {
     "name": "stdout",
     "output_type": "stream",
     "text": [
      "Train Epoch: 1 [0/60000 (0%)]\tLoss: 2.340629\n",
      "Train Epoch: 1 [640/60000 (1%)]\tLoss: 2.313133\n",
      "Train Epoch: 1 [1280/60000 (2%)]\tLoss: 2.367044\n",
      "Train Epoch: 1 [1920/60000 (3%)]\tLoss: 2.243788\n",
      "Train Epoch: 1 [2560/60000 (4%)]\tLoss: 2.198025\n",
      "Train Epoch: 1 [3200/60000 (5%)]\tLoss: 2.222730\n",
      "Train Epoch: 1 [3840/60000 (6%)]\tLoss: 2.255696\n",
      "Train Epoch: 1 [4480/60000 (7%)]\tLoss: 2.235583\n",
      "Train Epoch: 1 [5120/60000 (9%)]\tLoss: 2.166770\n",
      "Train Epoch: 1 [5760/60000 (10%)]\tLoss: 2.108469\n",
      "Train Epoch: 1 [6400/60000 (11%)]\tLoss: 2.022280\n",
      "Train Epoch: 1 [7040/60000 (12%)]\tLoss: 2.109047\n",
      "Train Epoch: 1 [7680/60000 (13%)]\tLoss: 2.061539\n",
      "Train Epoch: 1 [8320/60000 (14%)]\tLoss: 2.131554\n",
      "Train Epoch: 1 [8960/60000 (15%)]\tLoss: 2.110983\n",
      "Train Epoch: 1 [9600/60000 (16%)]\tLoss: 1.843904\n",
      "Train Epoch: 1 [10240/60000 (17%)]\tLoss: 1.946150\n",
      "Train Epoch: 1 [10880/60000 (18%)]\tLoss: 2.047064\n",
      "Train Epoch: 1 [11520/60000 (19%)]\tLoss: 1.974431\n",
      "Train Epoch: 1 [12160/60000 (20%)]\tLoss: 1.958642\n",
      "Train Epoch: 1 [12800/60000 (21%)]\tLoss: 2.011401\n",
      "Train Epoch: 1 [13440/60000 (22%)]\tLoss: 1.751278\n",
      "Train Epoch: 1 [14080/60000 (23%)]\tLoss: 1.864510\n",
      "Train Epoch: 1 [14720/60000 (25%)]\tLoss: 1.670516\n",
      "Train Epoch: 1 [15360/60000 (26%)]\tLoss: 1.745155\n",
      "Train Epoch: 1 [16000/60000 (27%)]\tLoss: 1.853178\n",
      "Train Epoch: 1 [16640/60000 (28%)]\tLoss: 1.779459\n",
      "Train Epoch: 1 [17280/60000 (29%)]\tLoss: 1.845346\n",
      "Train Epoch: 1 [17920/60000 (30%)]\tLoss: 1.645197\n",
      "Train Epoch: 1 [18560/60000 (31%)]\tLoss: 1.635590\n",
      "Train Epoch: 1 [19200/60000 (32%)]\tLoss: 1.612049\n",
      "Train Epoch: 1 [19840/60000 (33%)]\tLoss: 1.734758\n",
      "Train Epoch: 1 [20480/60000 (34%)]\tLoss: 1.697630\n",
      "Train Epoch: 1 [21120/60000 (35%)]\tLoss: 1.683312\n",
      "Train Epoch: 1 [21760/60000 (36%)]\tLoss: 1.570571\n",
      "Train Epoch: 1 [22400/60000 (37%)]\tLoss: 1.813446\n",
      "Train Epoch: 1 [23040/60000 (38%)]\tLoss: 1.768762\n",
      "Train Epoch: 1 [23680/60000 (39%)]\tLoss: 1.600008\n",
      "Train Epoch: 1 [24320/60000 (41%)]\tLoss: 1.612772\n",
      "Train Epoch: 1 [24960/60000 (42%)]\tLoss: 1.578979\n",
      "Train Epoch: 1 [25600/60000 (43%)]\tLoss: 1.640780\n",
      "Train Epoch: 1 [26240/60000 (44%)]\tLoss: 1.611379\n",
      "Train Epoch: 1 [26880/60000 (45%)]\tLoss: 1.568022\n",
      "Train Epoch: 1 [27520/60000 (46%)]\tLoss: 1.770376\n",
      "Train Epoch: 1 [28160/60000 (47%)]\tLoss: 1.433340\n",
      "Train Epoch: 1 [28800/60000 (48%)]\tLoss: 1.806828\n",
      "Train Epoch: 1 [29440/60000 (49%)]\tLoss: 1.635423\n",
      "Train Epoch: 1 [30080/60000 (50%)]\tLoss: 1.407219\n",
      "Train Epoch: 1 [30720/60000 (51%)]\tLoss: 1.439555\n",
      "Train Epoch: 1 [31360/60000 (52%)]\tLoss: 1.327980\n",
      "Train Epoch: 1 [32000/60000 (53%)]\tLoss: 1.277924\n",
      "Train Epoch: 1 [32640/60000 (54%)]\tLoss: 1.374689\n",
      "Train Epoch: 1 [33280/60000 (55%)]\tLoss: 1.371981\n",
      "Train Epoch: 1 [33920/60000 (57%)]\tLoss: 1.453638\n",
      "Train Epoch: 1 [34560/60000 (58%)]\tLoss: 1.156578\n",
      "Train Epoch: 1 [35200/60000 (59%)]\tLoss: 1.329001\n",
      "Train Epoch: 1 [35840/60000 (60%)]\tLoss: 1.285289\n",
      "Train Epoch: 1 [36480/60000 (61%)]\tLoss: 1.127401\n",
      "Train Epoch: 1 [37120/60000 (62%)]\tLoss: 1.374017\n",
      "Train Epoch: 1 [37760/60000 (63%)]\tLoss: 1.155042\n",
      "Train Epoch: 1 [38400/60000 (64%)]\tLoss: 1.380787\n",
      "Train Epoch: 1 [39040/60000 (65%)]\tLoss: 1.235070\n",
      "Train Epoch: 1 [39680/60000 (66%)]\tLoss: 1.114165\n",
      "Train Epoch: 1 [40320/60000 (67%)]\tLoss: 1.339791\n",
      "Train Epoch: 1 [40960/60000 (68%)]\tLoss: 1.083132\n",
      "Train Epoch: 1 [41600/60000 (69%)]\tLoss: 1.375532\n",
      "Train Epoch: 1 [42240/60000 (70%)]\tLoss: 1.361985\n",
      "Train Epoch: 1 [42880/60000 (71%)]\tLoss: 1.185330\n",
      "Train Epoch: 1 [43520/60000 (72%)]\tLoss: 1.250121\n",
      "Train Epoch: 1 [44160/60000 (74%)]\tLoss: 1.114001\n",
      "Train Epoch: 1 [44800/60000 (75%)]\tLoss: 1.354895\n",
      "Train Epoch: 1 [45440/60000 (76%)]\tLoss: 1.193699\n",
      "Train Epoch: 1 [46080/60000 (77%)]\tLoss: 1.223279\n",
      "Train Epoch: 1 [46720/60000 (78%)]\tLoss: 1.408135\n",
      "Train Epoch: 1 [47360/60000 (79%)]\tLoss: 1.195393\n",
      "Train Epoch: 1 [48000/60000 (80%)]\tLoss: 0.895856\n",
      "Train Epoch: 1 [48640/60000 (81%)]\tLoss: 1.090653\n",
      "Train Epoch: 1 [49280/60000 (82%)]\tLoss: 1.091966\n",
      "Train Epoch: 1 [49920/60000 (83%)]\tLoss: 1.337583\n",
      "Train Epoch: 1 [50560/60000 (84%)]\tLoss: 1.087725\n",
      "Train Epoch: 1 [51200/60000 (85%)]\tLoss: 0.846503\n",
      "Train Epoch: 1 [51840/60000 (86%)]\tLoss: 1.257182\n",
      "Train Epoch: 1 [52480/60000 (87%)]\tLoss: 0.862726\n",
      "Train Epoch: 1 [53120/60000 (88%)]\tLoss: 1.125894\n",
      "Train Epoch: 1 [53760/60000 (90%)]\tLoss: 1.030923\n",
      "Train Epoch: 1 [54400/60000 (91%)]\tLoss: 1.198440\n",
      "Train Epoch: 1 [55040/60000 (92%)]\tLoss: 1.199653\n",
      "Train Epoch: 1 [55680/60000 (93%)]\tLoss: 1.213874\n",
      "Train Epoch: 1 [56320/60000 (94%)]\tLoss: 1.165456\n",
      "Train Epoch: 1 [56960/60000 (95%)]\tLoss: 0.969877\n",
      "Train Epoch: 1 [57600/60000 (96%)]\tLoss: 1.211025\n",
      "Train Epoch: 1 [58240/60000 (97%)]\tLoss: 0.982652\n",
      "Train Epoch: 1 [58880/60000 (98%)]\tLoss: 1.059959\n",
      "Train Epoch: 1 [59520/60000 (99%)]\tLoss: 1.061475\n",
      "\n",
      "Test set: Average loss: 0.7654, Accuracy: 7548/10000 (75%)\n",
      "\n",
      "Train Epoch: 2 [0/60000 (0%)]\tLoss: 1.025342\n",
      "Train Epoch: 2 [640/60000 (1%)]\tLoss: 0.758238\n",
      "Train Epoch: 2 [1280/60000 (2%)]\tLoss: 0.950928\n",
      "Train Epoch: 2 [1920/60000 (3%)]\tLoss: 0.904663\n",
      "Train Epoch: 2 [2560/60000 (4%)]\tLoss: 0.955713\n",
      "Train Epoch: 2 [3200/60000 (5%)]\tLoss: 0.920294\n",
      "Train Epoch: 2 [3840/60000 (6%)]\tLoss: 0.963661\n",
      "Train Epoch: 2 [4480/60000 (7%)]\tLoss: 0.872292\n",
      "Train Epoch: 2 [5120/60000 (9%)]\tLoss: 0.908261\n",
      "Train Epoch: 2 [5760/60000 (10%)]\tLoss: 0.825115\n",
      "Train Epoch: 2 [6400/60000 (11%)]\tLoss: 0.876137\n",
      "Train Epoch: 2 [7040/60000 (12%)]\tLoss: 0.883897\n",
      "Train Epoch: 2 [7680/60000 (13%)]\tLoss: 0.961595\n",
      "Train Epoch: 2 [8320/60000 (14%)]\tLoss: 0.860387\n",
      "Train Epoch: 2 [8960/60000 (15%)]\tLoss: 0.918108\n",
      "Train Epoch: 2 [9600/60000 (16%)]\tLoss: 1.241006\n",
      "Train Epoch: 2 [10240/60000 (17%)]\tLoss: 0.846993\n",
      "Train Epoch: 2 [10880/60000 (18%)]\tLoss: 1.031326\n",
      "Train Epoch: 2 [11520/60000 (19%)]\tLoss: 0.969176\n",
      "Train Epoch: 2 [12160/60000 (20%)]\tLoss: 1.012118\n",
      "Train Epoch: 2 [12800/60000 (21%)]\tLoss: 0.880327\n",
      "Train Epoch: 2 [13440/60000 (22%)]\tLoss: 0.672061\n",
      "Train Epoch: 2 [14080/60000 (23%)]\tLoss: 0.678717\n",
      "Train Epoch: 2 [14720/60000 (25%)]\tLoss: 0.931724\n",
      "Train Epoch: 2 [15360/60000 (26%)]\tLoss: 0.775098\n",
      "Train Epoch: 2 [16000/60000 (27%)]\tLoss: 0.806440\n",
      "Train Epoch: 2 [16640/60000 (28%)]\tLoss: 0.918525\n",
      "Train Epoch: 2 [17280/60000 (29%)]\tLoss: 0.944254\n",
      "Train Epoch: 2 [17920/60000 (30%)]\tLoss: 0.893708\n",
      "Train Epoch: 2 [18560/60000 (31%)]\tLoss: 1.081140\n",
      "Train Epoch: 2 [19200/60000 (32%)]\tLoss: 1.184472\n",
      "Train Epoch: 2 [19840/60000 (33%)]\tLoss: 0.869978\n",
      "Train Epoch: 2 [20480/60000 (34%)]\tLoss: 0.860612\n",
      "Train Epoch: 2 [21120/60000 (35%)]\tLoss: 0.766237\n",
      "Train Epoch: 2 [21760/60000 (36%)]\tLoss: 0.593435\n",
      "Train Epoch: 2 [22400/60000 (37%)]\tLoss: 0.854943\n",
      "Train Epoch: 2 [23040/60000 (38%)]\tLoss: 0.763784\n",
      "Train Epoch: 2 [23680/60000 (39%)]\tLoss: 0.603398\n",
      "Train Epoch: 2 [24320/60000 (41%)]\tLoss: 0.756777\n",
      "Train Epoch: 2 [24960/60000 (42%)]\tLoss: 0.840304\n",
      "Train Epoch: 2 [25600/60000 (43%)]\tLoss: 0.769024\n",
      "Train Epoch: 2 [26240/60000 (44%)]\tLoss: 1.011453\n",
      "Train Epoch: 2 [26880/60000 (45%)]\tLoss: 1.173899\n",
      "Train Epoch: 2 [27520/60000 (46%)]\tLoss: 0.492667\n",
      "Train Epoch: 2 [28160/60000 (47%)]\tLoss: 0.801302\n",
      "Train Epoch: 2 [28800/60000 (48%)]\tLoss: 0.862033\n",
      "Train Epoch: 2 [29440/60000 (49%)]\tLoss: 1.069943\n",
      "Train Epoch: 2 [30080/60000 (50%)]\tLoss: 0.657492\n",
      "Train Epoch: 2 [30720/60000 (51%)]\tLoss: 0.843061\n",
      "Train Epoch: 2 [31360/60000 (52%)]\tLoss: 0.828071\n",
      "Train Epoch: 2 [32000/60000 (53%)]\tLoss: 0.747049\n",
      "Train Epoch: 2 [32640/60000 (54%)]\tLoss: 0.824821\n",
      "Train Epoch: 2 [33280/60000 (55%)]\tLoss: 0.675888\n",
      "Train Epoch: 2 [33920/60000 (57%)]\tLoss: 0.698450\n",
      "Train Epoch: 2 [34560/60000 (58%)]\tLoss: 0.658533\n",
      "Train Epoch: 2 [35200/60000 (59%)]\tLoss: 0.606174\n",
      "Train Epoch: 2 [35840/60000 (60%)]\tLoss: 0.915418\n",
      "Train Epoch: 2 [36480/60000 (61%)]\tLoss: 0.960243\n",
      "Train Epoch: 2 [37120/60000 (62%)]\tLoss: 0.829821\n",
      "Train Epoch: 2 [37760/60000 (63%)]\tLoss: 0.824681\n",
      "Train Epoch: 2 [38400/60000 (64%)]\tLoss: 0.747730\n",
      "Train Epoch: 2 [39040/60000 (65%)]\tLoss: 0.698448\n",
      "Train Epoch: 2 [39680/60000 (66%)]\tLoss: 0.803190\n",
      "Train Epoch: 2 [40320/60000 (67%)]\tLoss: 0.701867\n",
      "Train Epoch: 2 [40960/60000 (68%)]\tLoss: 0.746270\n",
      "Train Epoch: 2 [41600/60000 (69%)]\tLoss: 0.797844\n",
      "Train Epoch: 2 [42240/60000 (70%)]\tLoss: 0.715859\n",
      "Train Epoch: 2 [42880/60000 (71%)]\tLoss: 0.721065\n",
      "Train Epoch: 2 [43520/60000 (72%)]\tLoss: 0.826165\n",
      "Train Epoch: 2 [44160/60000 (74%)]\tLoss: 0.935536\n"
     ]
    },
    {
     "name": "stdout",
     "output_type": "stream",
     "text": [
      "Train Epoch: 2 [44800/60000 (75%)]\tLoss: 0.753542\n",
      "Train Epoch: 2 [45440/60000 (76%)]\tLoss: 0.663917\n",
      "Train Epoch: 2 [46080/60000 (77%)]\tLoss: 0.711623\n",
      "Train Epoch: 2 [46720/60000 (78%)]\tLoss: 0.695198\n",
      "Train Epoch: 2 [47360/60000 (79%)]\tLoss: 0.513566\n",
      "Train Epoch: 2 [48000/60000 (80%)]\tLoss: 0.812158\n",
      "Train Epoch: 2 [48640/60000 (81%)]\tLoss: 0.911167\n",
      "Train Epoch: 2 [49280/60000 (82%)]\tLoss: 0.881890\n",
      "Train Epoch: 2 [49920/60000 (83%)]\tLoss: 0.586312\n",
      "Train Epoch: 2 [50560/60000 (84%)]\tLoss: 0.642507\n",
      "Train Epoch: 2 [51200/60000 (85%)]\tLoss: 0.747622\n",
      "Train Epoch: 2 [51840/60000 (86%)]\tLoss: 0.777431\n",
      "Train Epoch: 2 [52480/60000 (87%)]\tLoss: 1.035826\n",
      "Train Epoch: 2 [53120/60000 (88%)]\tLoss: 0.805499\n",
      "Train Epoch: 2 [53760/60000 (90%)]\tLoss: 0.659635\n",
      "Train Epoch: 2 [54400/60000 (91%)]\tLoss: 0.596242\n",
      "Train Epoch: 2 [55040/60000 (92%)]\tLoss: 0.492765\n",
      "Train Epoch: 2 [55680/60000 (93%)]\tLoss: 0.474742\n",
      "Train Epoch: 2 [56320/60000 (94%)]\tLoss: 0.696521\n",
      "Train Epoch: 2 [56960/60000 (95%)]\tLoss: 0.656877\n",
      "Train Epoch: 2 [57600/60000 (96%)]\tLoss: 1.008143\n",
      "Train Epoch: 2 [58240/60000 (97%)]\tLoss: 0.600367\n",
      "Train Epoch: 2 [58880/60000 (98%)]\tLoss: 0.664662\n",
      "Train Epoch: 2 [59520/60000 (99%)]\tLoss: 0.510061\n",
      "\n",
      "Test set: Average loss: 0.4426, Accuracy: 8544/10000 (85%)\n",
      "\n",
      "Train Epoch: 3 [0/60000 (0%)]\tLoss: 0.834087\n",
      "Train Epoch: 3 [640/60000 (1%)]\tLoss: 0.670414\n",
      "Train Epoch: 3 [1280/60000 (2%)]\tLoss: 0.808495\n",
      "Train Epoch: 3 [1920/60000 (3%)]\tLoss: 0.583337\n",
      "Train Epoch: 3 [2560/60000 (4%)]\tLoss: 0.862529\n",
      "Train Epoch: 3 [3200/60000 (5%)]\tLoss: 0.719351\n",
      "Train Epoch: 3 [3840/60000 (6%)]\tLoss: 0.616689\n",
      "Train Epoch: 3 [4480/60000 (7%)]\tLoss: 0.878907\n",
      "Train Epoch: 3 [5120/60000 (9%)]\tLoss: 0.572852\n",
      "Train Epoch: 3 [5760/60000 (10%)]\tLoss: 0.658605\n",
      "Train Epoch: 3 [6400/60000 (11%)]\tLoss: 0.523341\n",
      "Train Epoch: 3 [7040/60000 (12%)]\tLoss: 0.695574\n",
      "Train Epoch: 3 [7680/60000 (13%)]\tLoss: 0.809197\n",
      "Train Epoch: 3 [8320/60000 (14%)]\tLoss: 0.506749\n",
      "Train Epoch: 3 [8960/60000 (15%)]\tLoss: 0.726145\n",
      "Train Epoch: 3 [9600/60000 (16%)]\tLoss: 0.784509\n",
      "Train Epoch: 3 [10240/60000 (17%)]\tLoss: 0.495237\n",
      "Train Epoch: 3 [10880/60000 (18%)]\tLoss: 0.705599\n",
      "Train Epoch: 3 [11520/60000 (19%)]\tLoss: 0.679471\n",
      "Train Epoch: 3 [12160/60000 (20%)]\tLoss: 0.599196\n",
      "Train Epoch: 3 [12800/60000 (21%)]\tLoss: 0.639076\n",
      "Train Epoch: 3 [13440/60000 (22%)]\tLoss: 0.630464\n",
      "Train Epoch: 3 [14080/60000 (23%)]\tLoss: 0.574248\n",
      "Train Epoch: 3 [14720/60000 (25%)]\tLoss: 0.846388\n",
      "Train Epoch: 3 [15360/60000 (26%)]\tLoss: 0.552531\n",
      "Train Epoch: 3 [16000/60000 (27%)]\tLoss: 0.627195\n",
      "Train Epoch: 3 [16640/60000 (28%)]\tLoss: 0.846545\n",
      "Train Epoch: 3 [17280/60000 (29%)]\tLoss: 0.555637\n",
      "Train Epoch: 3 [17920/60000 (30%)]\tLoss: 0.660561\n",
      "Train Epoch: 3 [18560/60000 (31%)]\tLoss: 0.562503\n",
      "Train Epoch: 3 [19200/60000 (32%)]\tLoss: 0.403727\n",
      "Train Epoch: 3 [19840/60000 (33%)]\tLoss: 0.647615\n",
      "Train Epoch: 3 [20480/60000 (34%)]\tLoss: 0.540925\n",
      "Train Epoch: 3 [21120/60000 (35%)]\tLoss: 0.718598\n",
      "Train Epoch: 3 [21760/60000 (36%)]\tLoss: 0.426915\n",
      "Train Epoch: 3 [22400/60000 (37%)]\tLoss: 0.417927\n",
      "Train Epoch: 3 [23040/60000 (38%)]\tLoss: 0.569603\n",
      "Train Epoch: 3 [23680/60000 (39%)]\tLoss: 0.470895\n",
      "Train Epoch: 3 [24320/60000 (41%)]\tLoss: 0.788459\n",
      "Train Epoch: 3 [24960/60000 (42%)]\tLoss: 0.783778\n",
      "Train Epoch: 3 [25600/60000 (43%)]\tLoss: 0.624511\n",
      "Train Epoch: 3 [26240/60000 (44%)]\tLoss: 0.632134\n",
      "Train Epoch: 3 [26880/60000 (45%)]\tLoss: 0.521478\n",
      "Train Epoch: 3 [27520/60000 (46%)]\tLoss: 0.460153\n",
      "Train Epoch: 3 [28160/60000 (47%)]\tLoss: 0.495204\n",
      "Train Epoch: 3 [28800/60000 (48%)]\tLoss: 0.465607\n",
      "Train Epoch: 3 [29440/60000 (49%)]\tLoss: 0.587245\n",
      "Train Epoch: 3 [30080/60000 (50%)]\tLoss: 0.622736\n",
      "Train Epoch: 3 [30720/60000 (51%)]\tLoss: 0.880206\n",
      "Train Epoch: 3 [31360/60000 (52%)]\tLoss: 0.635251\n",
      "Train Epoch: 3 [32000/60000 (53%)]\tLoss: 0.626251\n",
      "Train Epoch: 3 [32640/60000 (54%)]\tLoss: 0.507817\n",
      "Train Epoch: 3 [33280/60000 (55%)]\tLoss: 0.800717\n",
      "Train Epoch: 3 [33920/60000 (57%)]\tLoss: 0.478262\n",
      "Train Epoch: 3 [34560/60000 (58%)]\tLoss: 0.772297\n",
      "Train Epoch: 3 [35200/60000 (59%)]\tLoss: 0.562575\n",
      "Train Epoch: 3 [35840/60000 (60%)]\tLoss: 0.479745\n",
      "Train Epoch: 3 [36480/60000 (61%)]\tLoss: 0.429855\n",
      "Train Epoch: 3 [37120/60000 (62%)]\tLoss: 0.644959\n",
      "Train Epoch: 3 [37760/60000 (63%)]\tLoss: 0.634822\n",
      "Train Epoch: 3 [38400/60000 (64%)]\tLoss: 0.635957\n",
      "Train Epoch: 3 [39040/60000 (65%)]\tLoss: 0.617978\n",
      "Train Epoch: 3 [39680/60000 (66%)]\tLoss: 0.608810\n",
      "Train Epoch: 3 [40320/60000 (67%)]\tLoss: 0.602171\n",
      "Train Epoch: 3 [40960/60000 (68%)]\tLoss: 0.745207\n",
      "Train Epoch: 3 [41600/60000 (69%)]\tLoss: 0.670770\n",
      "Train Epoch: 3 [42240/60000 (70%)]\tLoss: 0.561723\n",
      "Train Epoch: 3 [42880/60000 (71%)]\tLoss: 0.512600\n",
      "Train Epoch: 3 [43520/60000 (72%)]\tLoss: 0.764815\n",
      "Train Epoch: 3 [44160/60000 (74%)]\tLoss: 0.438848\n",
      "Train Epoch: 3 [44800/60000 (75%)]\tLoss: 0.897939\n",
      "Train Epoch: 3 [45440/60000 (76%)]\tLoss: 0.574451\n",
      "Train Epoch: 3 [46080/60000 (77%)]\tLoss: 0.714112\n",
      "Train Epoch: 3 [46720/60000 (78%)]\tLoss: 0.410145\n",
      "Train Epoch: 3 [47360/60000 (79%)]\tLoss: 0.509632\n",
      "Train Epoch: 3 [48000/60000 (80%)]\tLoss: 0.561939\n",
      "Train Epoch: 3 [48640/60000 (81%)]\tLoss: 0.846314\n",
      "Train Epoch: 3 [49280/60000 (82%)]\tLoss: 0.428879\n",
      "Train Epoch: 3 [49920/60000 (83%)]\tLoss: 0.493992\n",
      "Train Epoch: 3 [50560/60000 (84%)]\tLoss: 0.423845\n",
      "Train Epoch: 3 [51200/60000 (85%)]\tLoss: 0.431745\n",
      "Train Epoch: 3 [51840/60000 (86%)]\tLoss: 0.482179\n"
     ]
    },
    {
     "ename": "KeyboardInterrupt",
     "evalue": "",
     "output_type": "error",
     "traceback": [
      "\u001b[1;31m---------------------------------------------------------------------------\u001b[0m",
      "\u001b[1;31mKeyboardInterrupt\u001b[0m                         Traceback (most recent call last)",
      "\u001b[1;32m~\\Prompt Optimization\\MNIST\\MNIST.py\u001b[0m in \u001b[0;36m<module>\u001b[1;34m\u001b[0m\n\u001b[0;32m    136\u001b[0m \u001b[1;33m\u001b[0m\u001b[0m\n\u001b[0;32m    137\u001b[0m \u001b[1;32mif\u001b[0m \u001b[0m__name__\u001b[0m \u001b[1;33m==\u001b[0m \u001b[1;34m'__main__'\u001b[0m\u001b[1;33m:\u001b[0m\u001b[1;33m\u001b[0m\u001b[1;33m\u001b[0m\u001b[0m\n\u001b[1;32m--> 138\u001b[1;33m     \u001b[0mmain\u001b[0m\u001b[1;33m(\u001b[0m\u001b[1;33m)\u001b[0m\u001b[1;33m\u001b[0m\u001b[1;33m\u001b[0m\u001b[0m\n\u001b[0m\u001b[0;32m    139\u001b[0m \u001b[1;33m\u001b[0m\u001b[0m\n",
      "\u001b[1;32m~\\Prompt Optimization\\MNIST\\MNIST.py\u001b[0m in \u001b[0;36mmain\u001b[1;34m()\u001b[0m\n\u001b[0;32m    127\u001b[0m     \u001b[0mscheduler\u001b[0m \u001b[1;33m=\u001b[0m \u001b[0mStepLR\u001b[0m\u001b[1;33m(\u001b[0m\u001b[0moptimizer\u001b[0m\u001b[1;33m,\u001b[0m \u001b[0mstep_size\u001b[0m\u001b[1;33m=\u001b[0m\u001b[1;36m1\u001b[0m\u001b[1;33m,\u001b[0m \u001b[0mgamma\u001b[0m\u001b[1;33m=\u001b[0m\u001b[0margs\u001b[0m\u001b[1;33m.\u001b[0m\u001b[0mgamma\u001b[0m\u001b[1;33m)\u001b[0m\u001b[1;33m\u001b[0m\u001b[1;33m\u001b[0m\u001b[0m\n\u001b[0;32m    128\u001b[0m     \u001b[1;32mfor\u001b[0m \u001b[0mepoch\u001b[0m \u001b[1;32min\u001b[0m \u001b[0mrange\u001b[0m\u001b[1;33m(\u001b[0m\u001b[1;36m1\u001b[0m\u001b[1;33m,\u001b[0m \u001b[0margs\u001b[0m\u001b[1;33m.\u001b[0m\u001b[0mepochs\u001b[0m \u001b[1;33m+\u001b[0m \u001b[1;36m1\u001b[0m\u001b[1;33m)\u001b[0m\u001b[1;33m:\u001b[0m\u001b[1;33m\u001b[0m\u001b[1;33m\u001b[0m\u001b[0m\n\u001b[1;32m--> 129\u001b[1;33m         \u001b[0mtrain\u001b[0m\u001b[1;33m(\u001b[0m\u001b[0margs\u001b[0m\u001b[1;33m,\u001b[0m \u001b[0mmodel\u001b[0m\u001b[1;33m,\u001b[0m \u001b[0mdevice\u001b[0m\u001b[1;33m,\u001b[0m \u001b[0mtrain_loader\u001b[0m\u001b[1;33m,\u001b[0m \u001b[0moptimizer\u001b[0m\u001b[1;33m,\u001b[0m \u001b[0mepoch\u001b[0m\u001b[1;33m)\u001b[0m\u001b[1;33m\u001b[0m\u001b[1;33m\u001b[0m\u001b[0m\n\u001b[0m\u001b[0;32m    130\u001b[0m         \u001b[0mtest\u001b[0m\u001b[1;33m(\u001b[0m\u001b[0margs\u001b[0m\u001b[1;33m,\u001b[0m \u001b[0mmodel\u001b[0m\u001b[1;33m,\u001b[0m \u001b[0mdevice\u001b[0m\u001b[1;33m,\u001b[0m \u001b[0mtest_loader\u001b[0m\u001b[1;33m)\u001b[0m\u001b[1;33m\u001b[0m\u001b[1;33m\u001b[0m\u001b[0m\n\u001b[0;32m    131\u001b[0m         \u001b[0mscheduler\u001b[0m\u001b[1;33m.\u001b[0m\u001b[0mstep\u001b[0m\u001b[1;33m(\u001b[0m\u001b[1;33m)\u001b[0m\u001b[1;33m\u001b[0m\u001b[1;33m\u001b[0m\u001b[0m\n",
      "\u001b[1;32m~\\Prompt Optimization\\MNIST\\MNIST.py\u001b[0m in \u001b[0;36mtrain\u001b[1;34m(args, model, device, train_loader, optimizer, epoch)\u001b[0m\n\u001b[0;32m     47\u001b[0m         \u001b[0mloss\u001b[0m \u001b[1;33m=\u001b[0m \u001b[0mF\u001b[0m\u001b[1;33m.\u001b[0m\u001b[0mnll_loss\u001b[0m\u001b[1;33m(\u001b[0m\u001b[0moutput\u001b[0m\u001b[1;33m,\u001b[0m \u001b[0mtarget\u001b[0m\u001b[1;33m)\u001b[0m\u001b[1;33m\u001b[0m\u001b[1;33m\u001b[0m\u001b[0m\n\u001b[0;32m     48\u001b[0m         \u001b[0mloss\u001b[0m\u001b[1;33m.\u001b[0m\u001b[0mbackward\u001b[0m\u001b[1;33m(\u001b[0m\u001b[1;33m)\u001b[0m\u001b[1;33m\u001b[0m\u001b[1;33m\u001b[0m\u001b[0m\n\u001b[1;32m---> 49\u001b[1;33m         \u001b[0moptimizer\u001b[0m\u001b[1;33m.\u001b[0m\u001b[0mstep\u001b[0m\u001b[1;33m(\u001b[0m\u001b[1;33m)\u001b[0m\u001b[1;33m\u001b[0m\u001b[1;33m\u001b[0m\u001b[0m\n\u001b[0m\u001b[0;32m     50\u001b[0m         \u001b[1;32mif\u001b[0m \u001b[0mbatch_idx\u001b[0m \u001b[1;33m%\u001b[0m \u001b[0margs\u001b[0m\u001b[1;33m.\u001b[0m\u001b[0mlog_interval\u001b[0m \u001b[1;33m==\u001b[0m \u001b[1;36m0\u001b[0m\u001b[1;33m:\u001b[0m\u001b[1;33m\u001b[0m\u001b[1;33m\u001b[0m\u001b[0m\n\u001b[0;32m     51\u001b[0m             print('Train Epoch: {} [{}/{} ({:.0f}%)]\\tLoss: {:.6f}'.format(\n",
      "\u001b[1;32m~\\anaconda3\\lib\\site-packages\\torch\\optim\\lr_scheduler.py\u001b[0m in \u001b[0;36mwrapper\u001b[1;34m(*args, **kwargs)\u001b[0m\n\u001b[0;32m     67\u001b[0m                 \u001b[0minstance\u001b[0m\u001b[1;33m.\u001b[0m\u001b[0m_step_count\u001b[0m \u001b[1;33m+=\u001b[0m \u001b[1;36m1\u001b[0m\u001b[1;33m\u001b[0m\u001b[1;33m\u001b[0m\u001b[0m\n\u001b[0;32m     68\u001b[0m                 \u001b[0mwrapped\u001b[0m \u001b[1;33m=\u001b[0m \u001b[0mfunc\u001b[0m\u001b[1;33m.\u001b[0m\u001b[0m__get__\u001b[0m\u001b[1;33m(\u001b[0m\u001b[0minstance\u001b[0m\u001b[1;33m,\u001b[0m \u001b[0mcls\u001b[0m\u001b[1;33m)\u001b[0m\u001b[1;33m\u001b[0m\u001b[1;33m\u001b[0m\u001b[0m\n\u001b[1;32m---> 69\u001b[1;33m                 \u001b[1;32mreturn\u001b[0m \u001b[0mwrapped\u001b[0m\u001b[1;33m(\u001b[0m\u001b[1;33m*\u001b[0m\u001b[0margs\u001b[0m\u001b[1;33m,\u001b[0m \u001b[1;33m**\u001b[0m\u001b[0mkwargs\u001b[0m\u001b[1;33m)\u001b[0m\u001b[1;33m\u001b[0m\u001b[1;33m\u001b[0m\u001b[0m\n\u001b[0m\u001b[0;32m     70\u001b[0m \u001b[1;33m\u001b[0m\u001b[0m\n\u001b[0;32m     71\u001b[0m             \u001b[1;31m# Note that the returned function here is no longer a bound method,\u001b[0m\u001b[1;33m\u001b[0m\u001b[1;33m\u001b[0m\u001b[1;33m\u001b[0m\u001b[0m\n",
      "\u001b[1;32m~\\anaconda3\\lib\\site-packages\\torch\\optim\\optimizer.py\u001b[0m in \u001b[0;36mwrapper\u001b[1;34m(*args, **kwargs)\u001b[0m\n\u001b[0;32m    278\u001b[0m                                                f\"but got {result}.\")\n\u001b[0;32m    279\u001b[0m \u001b[1;33m\u001b[0m\u001b[0m\n\u001b[1;32m--> 280\u001b[1;33m                 \u001b[0mout\u001b[0m \u001b[1;33m=\u001b[0m \u001b[0mfunc\u001b[0m\u001b[1;33m(\u001b[0m\u001b[1;33m*\u001b[0m\u001b[0margs\u001b[0m\u001b[1;33m,\u001b[0m \u001b[1;33m**\u001b[0m\u001b[0mkwargs\u001b[0m\u001b[1;33m)\u001b[0m\u001b[1;33m\u001b[0m\u001b[1;33m\u001b[0m\u001b[0m\n\u001b[0m\u001b[0;32m    281\u001b[0m                 \u001b[0mself\u001b[0m\u001b[1;33m.\u001b[0m\u001b[0m_optimizer_step_code\u001b[0m\u001b[1;33m(\u001b[0m\u001b[1;33m)\u001b[0m\u001b[1;33m\u001b[0m\u001b[1;33m\u001b[0m\u001b[0m\n\u001b[0;32m    282\u001b[0m \u001b[1;33m\u001b[0m\u001b[0m\n",
      "\u001b[1;32m~\\anaconda3\\lib\\site-packages\\torch\\optim\\optimizer.py\u001b[0m in \u001b[0;36m_use_grad\u001b[1;34m(self, *args, **kwargs)\u001b[0m\n\u001b[0;32m     31\u001b[0m         \u001b[1;32mtry\u001b[0m\u001b[1;33m:\u001b[0m\u001b[1;33m\u001b[0m\u001b[1;33m\u001b[0m\u001b[0m\n\u001b[0;32m     32\u001b[0m             \u001b[0mtorch\u001b[0m\u001b[1;33m.\u001b[0m\u001b[0mset_grad_enabled\u001b[0m\u001b[1;33m(\u001b[0m\u001b[0mself\u001b[0m\u001b[1;33m.\u001b[0m\u001b[0mdefaults\u001b[0m\u001b[1;33m[\u001b[0m\u001b[1;34m'differentiable'\u001b[0m\u001b[1;33m]\u001b[0m\u001b[1;33m)\u001b[0m\u001b[1;33m\u001b[0m\u001b[1;33m\u001b[0m\u001b[0m\n\u001b[1;32m---> 33\u001b[1;33m             \u001b[0mret\u001b[0m \u001b[1;33m=\u001b[0m \u001b[0mfunc\u001b[0m\u001b[1;33m(\u001b[0m\u001b[0mself\u001b[0m\u001b[1;33m,\u001b[0m \u001b[1;33m*\u001b[0m\u001b[0margs\u001b[0m\u001b[1;33m,\u001b[0m \u001b[1;33m**\u001b[0m\u001b[0mkwargs\u001b[0m\u001b[1;33m)\u001b[0m\u001b[1;33m\u001b[0m\u001b[1;33m\u001b[0m\u001b[0m\n\u001b[0m\u001b[0;32m     34\u001b[0m         \u001b[1;32mfinally\u001b[0m\u001b[1;33m:\u001b[0m\u001b[1;33m\u001b[0m\u001b[1;33m\u001b[0m\u001b[0m\n\u001b[0;32m     35\u001b[0m             \u001b[0mtorch\u001b[0m\u001b[1;33m.\u001b[0m\u001b[0mset_grad_enabled\u001b[0m\u001b[1;33m(\u001b[0m\u001b[0mprev_grad\u001b[0m\u001b[1;33m)\u001b[0m\u001b[1;33m\u001b[0m\u001b[1;33m\u001b[0m\u001b[0m\n",
      "\u001b[1;32m~\\anaconda3\\lib\\site-packages\\torch\\optim\\adadelta.py\u001b[0m in \u001b[0;36mstep\u001b[1;34m(self, closure)\u001b[0m\n\u001b[0;32m    106\u001b[0m             \u001b[0mself\u001b[0m\u001b[1;33m.\u001b[0m\u001b[0m_init_group\u001b[0m\u001b[1;33m(\u001b[0m\u001b[0mgroup\u001b[0m\u001b[1;33m,\u001b[0m \u001b[0mparams_with_grad\u001b[0m\u001b[1;33m,\u001b[0m \u001b[0mgrads\u001b[0m\u001b[1;33m,\u001b[0m \u001b[0msquare_avgs\u001b[0m\u001b[1;33m,\u001b[0m \u001b[0macc_deltas\u001b[0m\u001b[1;33m)\u001b[0m\u001b[1;33m\u001b[0m\u001b[1;33m\u001b[0m\u001b[0m\n\u001b[0;32m    107\u001b[0m \u001b[1;33m\u001b[0m\u001b[0m\n\u001b[1;32m--> 108\u001b[1;33m             adadelta(\n\u001b[0m\u001b[0;32m    109\u001b[0m                 \u001b[0mparams_with_grad\u001b[0m\u001b[1;33m,\u001b[0m\u001b[1;33m\u001b[0m\u001b[1;33m\u001b[0m\u001b[0m\n\u001b[0;32m    110\u001b[0m                 \u001b[0mgrads\u001b[0m\u001b[1;33m,\u001b[0m\u001b[1;33m\u001b[0m\u001b[1;33m\u001b[0m\u001b[0m\n",
      "\u001b[1;32m~\\anaconda3\\lib\\site-packages\\torch\\optim\\adadelta.py\u001b[0m in \u001b[0;36madadelta\u001b[1;34m(params, grads, square_avgs, acc_deltas, foreach, differentiable, lr, rho, eps, weight_decay, maximize)\u001b[0m\n\u001b[0;32m    204\u001b[0m         \u001b[0mfunc\u001b[0m \u001b[1;33m=\u001b[0m \u001b[0m_single_tensor_adadelta\u001b[0m\u001b[1;33m\u001b[0m\u001b[1;33m\u001b[0m\u001b[0m\n\u001b[0;32m    205\u001b[0m \u001b[1;33m\u001b[0m\u001b[0m\n\u001b[1;32m--> 206\u001b[1;33m     func(\n\u001b[0m\u001b[0;32m    207\u001b[0m         \u001b[0mparams\u001b[0m\u001b[1;33m,\u001b[0m\u001b[1;33m\u001b[0m\u001b[1;33m\u001b[0m\u001b[0m\n\u001b[0;32m    208\u001b[0m         \u001b[0mgrads\u001b[0m\u001b[1;33m,\u001b[0m\u001b[1;33m\u001b[0m\u001b[1;33m\u001b[0m\u001b[0m\n",
      "\u001b[1;32m~\\anaconda3\\lib\\site-packages\\torch\\optim\\adadelta.py\u001b[0m in \u001b[0;36m_single_tensor_adadelta\u001b[1;34m(params, grads, square_avgs, acc_deltas, lr, rho, eps, weight_decay, maximize, differentiable)\u001b[0m\n\u001b[0;32m    255\u001b[0m         \u001b[1;32mif\u001b[0m \u001b[0mtorch\u001b[0m\u001b[1;33m.\u001b[0m\u001b[0mis_complex\u001b[0m\u001b[1;33m(\u001b[0m\u001b[0mparam\u001b[0m\u001b[1;33m)\u001b[0m\u001b[1;33m:\u001b[0m\u001b[1;33m\u001b[0m\u001b[1;33m\u001b[0m\u001b[0m\n\u001b[0;32m    256\u001b[0m             \u001b[0mdelta\u001b[0m \u001b[1;33m=\u001b[0m \u001b[0mtorch\u001b[0m\u001b[1;33m.\u001b[0m\u001b[0mview_as_complex\u001b[0m\u001b[1;33m(\u001b[0m\u001b[0mdelta\u001b[0m\u001b[1;33m)\u001b[0m\u001b[1;33m\u001b[0m\u001b[1;33m\u001b[0m\u001b[0m\n\u001b[1;32m--> 257\u001b[1;33m         \u001b[0mparam\u001b[0m\u001b[1;33m.\u001b[0m\u001b[0madd_\u001b[0m\u001b[1;33m(\u001b[0m\u001b[0mdelta\u001b[0m\u001b[1;33m,\u001b[0m \u001b[0malpha\u001b[0m\u001b[1;33m=\u001b[0m\u001b[1;33m-\u001b[0m\u001b[0mlr\u001b[0m\u001b[1;33m)\u001b[0m\u001b[1;33m\u001b[0m\u001b[1;33m\u001b[0m\u001b[0m\n\u001b[0m\u001b[0;32m    258\u001b[0m \u001b[1;33m\u001b[0m\u001b[0m\n\u001b[0;32m    259\u001b[0m \u001b[1;33m\u001b[0m\u001b[0m\n",
      "\u001b[1;31mKeyboardInterrupt\u001b[0m: "
     ]
    }
   ],
   "source": [
    "%run MNIST.py"
   ]
  },
  {
   "cell_type": "code",
   "execution_count": null,
   "id": "523396fd",
   "metadata": {},
   "outputs": [],
   "source": []
  }
 ],
 "metadata": {
  "kernelspec": {
   "display_name": "Python 3",
   "language": "python",
   "name": "python3"
  },
  "language_info": {
   "codemirror_mode": {
    "name": "ipython",
    "version": 3
   },
   "file_extension": ".py",
   "mimetype": "text/x-python",
   "name": "python",
   "nbconvert_exporter": "python",
   "pygments_lexer": "ipython3",
   "version": "3.8.8"
  },
  "latex_envs": {
   "LaTeX_envs_menu_present": true,
   "autoclose": false,
   "autocomplete": true,
   "bibliofile": "biblio.bib",
   "cite_by": "apalike",
   "current_citInitial": 1,
   "eqLabelWithNumbers": true,
   "eqNumInitial": 1,
   "hotkeys": {
    "equation": "Ctrl-E",
    "itemize": "Ctrl-I"
   },
   "labels_anchors": false,
   "latex_user_defs": false,
   "report_style_numbering": false,
   "user_envs_cfg": false
  },
  "toc": {
   "base_numbering": 1,
   "nav_menu": {},
   "number_sections": true,
   "sideBar": true,
   "skip_h1_title": false,
   "title_cell": "Table of Contents",
   "title_sidebar": "Contents",
   "toc_cell": false,
   "toc_position": {},
   "toc_section_display": true,
   "toc_window_display": false
  },
  "varInspector": {
   "cols": {
    "lenName": 16,
    "lenType": 16,
    "lenVar": 40
   },
   "kernels_config": {
    "python": {
     "delete_cmd_postfix": "",
     "delete_cmd_prefix": "del ",
     "library": "var_list.py",
     "varRefreshCmd": "print(var_dic_list())"
    },
    "r": {
     "delete_cmd_postfix": ") ",
     "delete_cmd_prefix": "rm(",
     "library": "var_list.r",
     "varRefreshCmd": "cat(var_dic_list()) "
    }
   },
   "types_to_exclude": [
    "module",
    "function",
    "builtin_function_or_method",
    "instance",
    "_Feature"
   ],
   "window_display": false
  }
 },
 "nbformat": 4,
 "nbformat_minor": 5
}
